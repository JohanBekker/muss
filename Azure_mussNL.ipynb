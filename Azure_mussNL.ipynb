{
 "cells": [
  {
   "cell_type": "code",
   "execution_count": null,
   "id": "1ffd1536",
   "metadata": {},
   "outputs": [],
   "source": [
    "import azure.core\n",
    "from azureml.core import Workspace,Environment,Experiment,ScriptRunConfig\n",
    "from azureml.core.compute import AmlCompute, ComputeTarget\n",
    "from azureml.core.compute_target import ComputeTargetException"
   ]
  },
  {
   "cell_type": "code",
   "execution_count": null,
   "id": "797c0a58",
   "metadata": {},
   "outputs": [],
   "source": [
    "resource_name = \"MussNL_RS\"\n",
    "workspace_name = \"MussNL_WS\"\n",
    "subscriptionID = \"\" # Please enter your subscription id here\n",
    "aml_compute_target = \"muss-cluster\" #ALL SMALL LETTER, NO underscore, 16ws long only.\n",
    "experiment_name= 'muss_expirement'"
   ]
  },
  {
   "cell_type": "code",
   "execution_count": null,
   "id": "207f0f0c",
   "metadata": {},
   "outputs": [],
   "source": [
    "# Now create Workspace\n",
    "try:\n",
    "    ws=Workspace.from_config()\n",
    "    print('Workspace already exists')\n",
    "except:\n",
    "    ws=Workspace.create(workspace_name, \n",
    "                    resource_group=resource_name,\n",
    "                    create_resource_group=True,\n",
    "                    subscription_id=subscriptionID,\n",
    "                    location=\"Australia East\")\n",
    "    ws.write_config('.azureml')"
   ]
  },
  {
   "cell_type": "code",
   "execution_count": null,
   "id": "d5f2d19b",
   "metadata": {},
   "outputs": [],
   "source": [
    "Workspace.from_config()"
   ]
  },
  {
   "cell_type": "code",
   "execution_count": null,
   "id": "185a92ab",
   "metadata": {},
   "outputs": [],
   "source": [
    "# Create Compute Target\n",
    "try:\n",
    "    aml_compute = AmlCompute(ws, aml_compute_target)\n",
    "    print(\"This Compute Target already exist.\")\n",
    "except ComputeTargetException:\n",
    "    print(\"creating new compute target :\",aml_compute_target)\n",
    "    \n",
    "    provisioning_config = AmlCompute.provisioning_configuration(vm_size = \"Standard_NC6\",\n",
    "                                                                min_nodes = 0, \n",
    "                                                                max_nodes = 1,\n",
    "                                               idle_seconds_before_scaledown=3000)    \n",
    "    aml_compute = ComputeTarget.create(ws, aml_compute_target, provisioning_config)\n",
    "    aml_compute.wait_for_completion(show_output=True, min_node_count=None, timeout_in_minutes=20)\n",
    "    \n",
    "print(\"Azure Machine Learning Compute attached now\")"
   ]
  },
  {
   "cell_type": "code",
   "execution_count": null,
   "id": "e499fd6d",
   "metadata": {},
   "outputs": [],
   "source": [
    "# Create Experiment\n",
    "exp = Experiment(ws,experiment_name)"
   ]
  },
  {
   "cell_type": "code",
   "execution_count": null,
   "id": "67abb988",
   "metadata": {},
   "outputs": [],
   "source": [
    "# Create environment to execute your code\n",
    "env = Environment.from_conda_specification(name=\"azure_ml\",file_path=\"./envfile.yml\")\n",
    "config=ScriptRunConfig(source_directory=\"./\",script=\"azure_mussNL_train.py\",compute_target=aml_compute_target,environment=env)\n",
    "execution=exp.submit(config)\n",
    "execution.wait_for_completion(show_output=True)"
   ]
  },
  {
   "cell_type": "code",
   "execution_count": null,
   "id": "60a9f962",
   "metadata": {},
   "outputs": [],
   "source": []
  },
  {
   "cell_type": "code",
   "execution_count": null,
   "id": "3ab16323",
   "metadata": {},
   "outputs": [],
   "source": []
  }
 ],
 "metadata": {
  "kernelspec": {
   "display_name": "Python 3 (ipykernel)",
   "language": "python",
   "name": "python3"
  },
  "language_info": {
   "codemirror_mode": {
    "name": "ipython",
    "version": 3
   },
   "file_extension": ".py",
   "mimetype": "text/x-python",
   "name": "python",
   "nbconvert_exporter": "python",
   "pygments_lexer": "ipython3",
   "version": "3.8.12"
  }
 },
 "nbformat": 4,
 "nbformat_minor": 5
}
